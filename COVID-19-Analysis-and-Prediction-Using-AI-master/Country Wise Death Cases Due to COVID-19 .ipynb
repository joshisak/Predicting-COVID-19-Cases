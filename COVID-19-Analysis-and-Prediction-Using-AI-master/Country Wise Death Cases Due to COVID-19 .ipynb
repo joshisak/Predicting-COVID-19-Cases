{
 "cells": [
  {
   "cell_type": "markdown",
   "metadata": {
    "id": "m9dEqeYRhlVD"
   },
   "source": [
    "# Importing Libraries"
   ]
  },
  {
   "cell_type": "code",
   "execution_count": null,
   "metadata": {
    "_cell_guid": "79c7e3d0-c299-4dcb-8224-4455121ee9b0",
    "_uuid": "d629ff2d2480ee46fbb7e2d37f6b5fab8052498a",
    "id": "EAopV2x1hlVI"
   },
   "outputs": [],
   "source": [
    "import pandas as pd\n",
    "import numpy as np\n",
    "import tensorflow as tf\n",
    "keras = tf.keras\n",
    "from sklearn.preprocessing import RobustScaler\n",
    "import plotly.graph_objects as go\n",
    "physical_devices = tf.config.experimental.list_physical_devices('GPU')\n",
    "tf.config.experimental.set_memory_growth(physical_devices[0], True)"
   ]
  },
  {
   "cell_type": "markdown",
   "metadata": {
    "id": "Y2k8WQjDhlVd"
   },
   "source": [
    "# Importing Data"
   ]
  },
  {
   "cell_type": "code",
   "execution_count": null,
   "metadata": {
    "id": "kmEhSaz9hlVl"
   },
   "outputs": [],
   "source": [
    "death_df = pd.read_csv('https://raw.githubusercontent.com/CSSEGISandData/COVID-19/master/csse_covid_19_data/csse_covid_19_time_series/time_series_covid19_deaths_global.csv')"
   ]
  },
  {
   "cell_type": "markdown",
   "metadata": {},
   "source": [
    "# Data Pre-Processing"
   ]
  },
  {
   "cell_type": "code",
   "execution_count": null,
   "metadata": {},
   "outputs": [],
   "source": [
    "death_df = death_df.groupby(\"Country/Region\").sum().reset_index()\n",
    "Country_death =  death_df['Country/Region'].values\n",
    "death_df = death_df.drop(['Lat','Long','Country/Region'], axis=1)\n",
    "death_df = death_df[death_df.columns].T\n",
    "death_df.columns = Country_death\n",
    "Date_index = death_df.index\n",
    "death_df = death_df.diff().fillna(0)\n",
    "death_df = death_df.abs()\n",
    "death_df.head()"
   ]
  },
  {
   "cell_type": "markdown",
   "metadata": {},
   "source": [
    "# Scalling the data"
   ]
  },
  {
   "cell_type": "code",
   "execution_count": null,
   "metadata": {
    "id": "baY-jVe7hthx"
   },
   "outputs": [],
   "source": [
    "sc = RobustScaler()\n",
    "death_df_scaled = sc.fit_transform(death_df)\n",
    "death_df_scaled = pd.DataFrame(death_df_scaled)"
   ]
  },
  {
   "cell_type": "markdown",
   "metadata": {
    "id": "Zh2kGM_QhlVz"
   },
   "source": [
    "# Enter the number of days you want to predict"
   ]
  },
  {
   "cell_type": "code",
   "execution_count": null,
   "metadata": {
    "id": "0MEHfUV7hlV3",
    "outputId": "ccb33b7d-63a8-49f8-db90-6fd00e68ffc6"
   },
   "outputs": [],
   "source": [
    "DAYS_TO_PREDICT = int(input('Enter Number Of Days You Want to Predict : '))\n",
    "predict_death_index = pd.date_range(start=Date_index[-1],periods=DAYS_TO_PREDICT + 1,closed='right')\n",
    "predict_death_index = predict_death_index.strftime('%Y/%m/%d')"
   ]
  },
  {
   "cell_type": "markdown",
   "metadata": {
    "id": "kh9K0SOHhlWD"
   },
   "source": [
    "# Creating class for building model"
   ]
  },
  {
   "cell_type": "code",
   "execution_count": null,
   "metadata": {
    "id": "nHgQRB0ehlWG"
   },
   "outputs": [],
   "source": [
    "class Corona_death_model():\n",
    "    def create_dataset(self, dataset, time_steps=1, column = 0):\n",
    "        dataX, dataY = [], []\n",
    "        for i in range(len(dataset)-time_steps-1):\n",
    "          a = dataset[i:(i+time_steps), column]\n",
    "          dataX.append(a)\n",
    "          dataY.append(dataset[i + time_steps, column])\n",
    "        return np.array(dataX), np.array(dataY)\n",
    "\n",
    "    def Model(self,dframe,column):\n",
    "        df = dframe.values\n",
    "        df = df.astype('float32')\n",
    "        \n",
    "        time_steps = 1\n",
    "        trainX, trainY = self.create_dataset(df, time_steps, column)\n",
    "        trainX = np.reshape(trainX, (trainX.shape[0],1,trainX.shape[1]))\n",
    "        \n",
    "        \n",
    "        keras.backend.clear_session()\n",
    "        tf.random.set_seed(42)\n",
    "        np.random.seed(42)\n",
    "        death_model = keras.models.Sequential([\n",
    "            keras.layers.InputLayer(input_shape=[None, 1]),\n",
    "            keras.layers.Conv1D(filters=16, kernel_size=2,\n",
    "                      strides=1, padding=\"causal\",\n",
    "                      activation=\"relu\",\n",
    "                      ),\n",
    "            keras.layers.LSTM(30,kernel_initializer = 'he_normal',\n",
    "                              return_sequences = True),\n",
    "            keras.layers.LSTM(30,kernel_initializer = 'he_normal',\n",
    "                              return_sequences = True),\n",
    "            keras.layers.Dense(15,kernel_initializer = 'he_normal',\n",
    "                                             activation = 'relu'),\n",
    "            keras.layers.Dense(15,kernel_initializer = 'he_normal',\n",
    "                                             activation = 'relu'),\n",
    "            keras.layers.Dense(1,activation = 'linear',kernel_initializer = 'he_normal'),\n",
    "            keras.layers.Lambda(lambda x: x * 200)\n",
    "             ])\n",
    "               \n",
    "        optimizer = keras.optimizers.Adadelta(lr = 0.001)\n",
    "        \n",
    "        death_model.compile(loss=['mae'],optimizer=optimizer)   \n",
    "                \n",
    "        death_model.fit(trainX, trainY, epochs=100,\n",
    "                          batch_size = 10,verbose = 0)\n",
    "\n",
    "        death_test_seq  = trainX[-1:]\n",
    "        death_test_seq = death_test_seq\n",
    "        death_test_seq = death_test_seq.reshape(len(death_test_seq), time_steps, 1)\n",
    "        death_preds = []\n",
    "        \n",
    "        for _ in range (DAYS_TO_PREDICT):\n",
    "            death_pred = death_model.predict(death_test_seq)\n",
    "            death_preds.append(death_pred)\n",
    "            death_new_seq = death_pred\n",
    "            death_test_seq = death_new_seq\n",
    "            death_test_seq = death_test_seq.reshape(len(death_test_seq ), time_steps, 1)\n",
    "\n",
    "        \n",
    "\n",
    "        return death_preds"
   ]
  },
  {
   "cell_type": "markdown",
   "metadata": {
    "id": "fCAhhUl9hlWU"
   },
   "source": [
    "# Calling the class and predicting the cases for every individual country"
   ]
  },
  {
   "cell_type": "code",
   "execution_count": null,
   "metadata": {
    "id": "igfgOEh4hlWX",
    "outputId": "dc34dede-480d-46ec-c694-ea4bb77cba70",
    "scrolled": true
   },
   "outputs": [],
   "source": [
    "NN = Corona_death_model()\n",
    "death_predictions = []\n",
    "for i in range(len(Country_death)):\n",
    "    result = NN.Model(death_df_scaled,i) \n",
    "    death_predictions.append(result)"
   ]
  },
  {
   "cell_type": "code",
   "execution_count": null,
   "metadata": {
    "id": "eJFkbEI3iQv4",
    "outputId": "1a9090e6-0b13-4b4b-a40f-fd700a7488a4"
   },
   "outputs": [],
   "source": [
    "death_predictions = (np.array(death_predictions).transpose())\n",
    "death_predictions = death_predictions.reshape(((DAYS_TO_PREDICT),len(Country_death)))\n",
    "death_predictions = sc.inverse_transform(death_predictions)\n",
    "death_predictions = pd.DataFrame(death_predictions)\n",
    "death_predictions = death_predictions.abs()\n",
    "death_predictions['Dates'] = predict_death_index\n",
    "death_predictions.set_index('Dates', inplace = True)\n",
    "death_predictions.columns = Country_death\n",
    "death_predictions.head()"
   ]
  },
  {
   "cell_type": "markdown",
   "metadata": {},
   "source": [
    "# Visualizing The Death Cases For A Country As Per The User's Choice"
   ]
  },
  {
   "cell_type": "markdown",
   "metadata": {},
   "source": [
    "### List of Infected Countries"
   ]
  },
  {
   "cell_type": "code",
   "execution_count": null,
   "metadata": {},
   "outputs": [],
   "source": [
    "Infected_Countries = pd.DataFrame(Country_death)\n",
    "Infected_Countries.columns = ['Countries']\n",
    "pd.set_option(\"max_rows\", None)\n",
    "Infected_Countries"
   ]
  },
  {
   "cell_type": "markdown",
   "metadata": {},
   "source": [
    "### Select The Country"
   ]
  },
  {
   "cell_type": "code",
   "execution_count": null,
   "metadata": {},
   "outputs": [],
   "source": [
    "Country = input('Enter the name of the country from above list you would like to see the daily cases till now : ')"
   ]
  },
  {
   "cell_type": "markdown",
   "metadata": {},
   "source": [
    "## Till Date Daily Cases of Death due to coronavirus"
   ]
  },
  {
   "cell_type": "code",
   "execution_count": null,
   "metadata": {},
   "outputs": [],
   "source": [
    "fig = go.Figure()\n",
    "fig.update_layout(template='plotly_dark',title={'text': 'Death Daily Cases','y':0.9,'x':0.5,'xanchor': 'center',\n",
    "                                                'yanchor': 'top'},\n",
    "                                    xaxis_title=\"Dates\",\n",
    "                                    yaxis_title=\"Number Of Cases\")\n",
    "fig.add_trace(go.Scatter(x=death_df.index, \n",
    "                         y=death_df[Country],\n",
    "                         mode='lines+markers',\n",
    "                         line=dict(color='red', width=2)))"
   ]
  },
  {
   "cell_type": "markdown",
   "metadata": {},
   "source": [
    "## Predictions of death cases due to coronavirus"
   ]
  },
  {
   "cell_type": "code",
   "execution_count": null,
   "metadata": {},
   "outputs": [],
   "source": [
    "fig = go.Figure()\n",
    "fig.update_layout(template='plotly_dark',title={'text': 'Death Cases Predictions','y':0.9,'x':0.5,'xanchor': 'center',\n",
    "                                                'yanchor': 'top'},xaxis_title=\"Dates\",yaxis_title=\"Number Of Cases\")                           \n",
    "fig.update_xaxes(tickangle=90, showticklabels = True, type = 'category')\n",
    "fig.add_trace(go.Scatter(x=death_predictions.index, \n",
    "                         y=death_predictions[Country],\n",
    "                         mode='lines+markers',\n",
    "                         line=dict(color='turquoise', width=2)))"
   ]
  }
 ],
 "metadata": {
  "author": {
   "email": "rv20197@gmail.com",
   "name": "Vatsal Dinesh Rajgor"
  },
  "contributors": {
   "contributor1": "Ajinky Porje",
   "contributor2": "Jibran Mujawar"
  },
  "kernelspec": {
   "display_name": "Python 3",
   "language": "python",
   "name": "python3"
  },
  "language_info": {
   "codemirror_mode": {
    "name": "ipython",
    "version": 3
   },
   "file_extension": ".py",
   "mimetype": "text/x-python",
   "name": "python",
   "nbconvert_exporter": "python",
   "pygments_lexer": "ipython3",
   "version": "3.7.6"
  }
 },
 "nbformat": 4,
 "nbformat_minor": 4
}
