{
 "cells": [
  {
   "cell_type": "markdown",
   "metadata": {
    "id": "AN9nF7oQNLj9"
   },
   "source": [
    "# Importing Libraries"
   ]
  },
  {
   "cell_type": "code",
   "execution_count": null,
   "metadata": {
    "_cell_guid": "79c7e3d0-c299-4dcb-8224-4455121ee9b0",
    "_uuid": "d629ff2d2480ee46fbb7e2d37f6b5fab8052498a",
    "id": "e_cKBIZmNLkB",
    "outputId": "f38643ee-c596-41be-dbc3-0b7c61db4c6c"
   },
   "outputs": [],
   "source": [
    "import pandas as pd\n",
    "import numpy as np\n",
    "import tensorflow as tf\n",
    "keras = tf.keras\n",
    "from sklearn.preprocessing import RobustScaler\n",
    "import plotly.graph_objects as go\n",
    "physical_devices = tf.config.experimental.list_physical_devices('GPU')\n",
    "tf.config.experimental.set_memory_growth(physical_devices[0], True)"
   ]
  },
  {
   "cell_type": "markdown",
   "metadata": {
    "id": "ID8Cac12NLkS"
   },
   "source": [
    "# Importing Data"
   ]
  },
  {
   "cell_type": "code",
   "execution_count": null,
   "metadata": {
    "id": "WIn0nNrGNLkY"
   },
   "outputs": [],
   "source": [
    "recovered_df = pd.read_csv('https://raw.githubusercontent.com/CSSEGISandData/COVID-19/master/csse_covid_19_data/csse_covid_19_time_series/time_series_covid19_recovered_global.csv')"
   ]
  },
  {
   "cell_type": "markdown",
   "metadata": {
    "id": "YP8mA0GWNLkk"
   },
   "source": [
    "# Data Pre-Procesing"
   ]
  },
  {
   "cell_type": "code",
   "execution_count": null,
   "metadata": {
    "id": "A9ETqIz-NLko"
   },
   "outputs": [],
   "source": [
    "recovered_df = recovered_df.groupby(\"Country/Region\").sum().reset_index()\n",
    "Country_recovered =  recovered_df['Country/Region'].values\n",
    "recovered_df = recovered_df.drop(['Lat','Long','Country/Region'], axis=1)\n",
    "recovered_df = recovered_df[recovered_df.columns].T\n",
    "recovered_df.columns = Country_recovered\n",
    "Date_index = recovered_df.index\n",
    "recovered_df = recovered_df.diff().fillna(0)\n",
    "recovered_df = recovered_df.abs()\n",
    "recovered_df.head()"
   ]
  },
  {
   "cell_type": "markdown",
   "metadata": {
    "id": "OtAF1QA6NLkz"
   },
   "source": [
    "# Scalling the data"
   ]
  },
  {
   "cell_type": "code",
   "execution_count": null,
   "metadata": {
    "id": "7MS9_EmjNLk1"
   },
   "outputs": [],
   "source": [
    "sc = RobustScaler()\n",
    "recovered_df_scaled = sc.fit_transform(recovered_df)\n",
    "recovered_df_scaled = pd.DataFrame(recovered_df_scaled)"
   ]
  },
  {
   "cell_type": "markdown",
   "metadata": {
    "id": "xunTl43aNLlE"
   },
   "source": [
    "# Enter the number of days you want to predict"
   ]
  },
  {
   "cell_type": "code",
   "execution_count": null,
   "metadata": {
    "id": "D5c5gmixNLlG",
    "outputId": "4bc7303a-64b9-4b1e-ad9c-1f5001679a39"
   },
   "outputs": [],
   "source": [
    "DAYS_TO_PREDICT = int(input('Enter Number Of Days You Want to Predict : '))\n",
    "predict_recovered_index = pd.date_range(start=Date_index[-1],periods=DAYS_TO_PREDICT + 1,closed='right')\n",
    "predict_recovered_index = predict_recovered_index.strftime('%Y/%m/%d')"
   ]
  },
  {
   "cell_type": "markdown",
   "metadata": {
    "id": "PzqRTPVRNLlT"
   },
   "source": [
    "# Creating class for building model"
   ]
  },
  {
   "cell_type": "code",
   "execution_count": null,
   "metadata": {
    "id": "blgCkcj9NLlX"
   },
   "outputs": [],
   "source": [
    "class Corona_recovered_model():\n",
    "    def create_dataset(self, dataset, time_steps=1, column = 0):\n",
    "        dataX, dataY = [], []\n",
    "        for i in range(len(dataset)-time_steps-1):\n",
    "          a = dataset[i:(i+time_steps), column]\n",
    "          dataX.append(a)\n",
    "          dataY.append(dataset[i + time_steps, column])\n",
    "        return np.array(dataX), np.array(dataY)\n",
    "\n",
    "    def Model(self,dframe,column):\n",
    "        df = dframe.values\n",
    "        df = df.astype('float32')\n",
    "        \n",
    "        time_steps = 1\n",
    "        trainX, trainY = self.create_dataset(df, time_steps, column)\n",
    "        trainX = np.reshape(trainX, (trainX.shape[0],1,trainX.shape[1]))\n",
    "        \n",
    "        \n",
    "        keras.backend.clear_session()\n",
    "        tf.random.set_seed(42)\n",
    "        np.random.seed(42)\n",
    "        recover_model = keras.models.Sequential([\n",
    "            keras.layers.InputLayer(input_shape=[None, 1]),\n",
    "            keras.layers.Conv1D(filters=16, kernel_size=2,\n",
    "                      strides=1, padding=\"causal\",\n",
    "                      activation=\"relu\",\n",
    "                      ),\n",
    "            keras.layers.LSTM(30,kernel_initializer = 'he_normal',\n",
    "                              return_sequences = True),\n",
    "            keras.layers.LSTM(30,kernel_initializer = 'he_normal',\n",
    "                              return_sequences = True),\n",
    "            keras.layers.Dense(15,kernel_initializer = 'he_normal',\n",
    "                                             activation = 'relu'),\n",
    "            keras.layers.Dense(15,kernel_initializer = 'he_normal',\n",
    "                                             activation = 'relu'),\n",
    "            keras.layers.Dense(1,activation = 'linear',kernel_initializer = 'he_normal'),\n",
    "            keras.layers.Lambda(lambda x: x * 200)\n",
    "             ])\n",
    "        \n",
    "        optimizer = keras.optimizers.Adadelta(lr = 0.001)\n",
    "        \n",
    "        recover_model.compile(loss=['mae'],optimizer=optimizer)   \n",
    "                \n",
    "        recover_model.fit(trainX, trainY, epochs=100,\n",
    "                          batch_size = 10, verbose = 0)\n",
    "\n",
    "        recover_test_seq  = trainX[-1:]\n",
    "        recover_test_seq = recover_test_seq\n",
    "        recover_test_seq = recover_test_seq.reshape(len(recover_test_seq), time_steps, 1)\n",
    "        recover_preds = []\n",
    "        \n",
    "        for _ in range (DAYS_TO_PREDICT):\n",
    "            recover_pred = recover_model.predict(recover_test_seq)\n",
    "            recover_preds.append(recover_pred)\n",
    "            recover_new_seq = recover_pred\n",
    "            recover_test_seq = recover_new_seq\n",
    "            recover_test_seq = recover_test_seq.reshape(len(recover_test_seq ), time_steps, 1)\n",
    "\n",
    "        \n",
    "\n",
    "        return recover_preds"
   ]
  },
  {
   "cell_type": "markdown",
   "metadata": {
    "id": "i1A0DLlaNLlh"
   },
   "source": [
    "# Calling the class and predicting the cases for every individual country"
   ]
  },
  {
   "cell_type": "code",
   "execution_count": null,
   "metadata": {
    "id": "Z3XWA0_lNLlk",
    "outputId": "0f188b47-8487-473a-a4e6-c039acaf3b67",
    "scrolled": true
   },
   "outputs": [],
   "source": [
    "NN = Corona_recovered_model()\n",
    "recovered_predictions = []\n",
    "for i in range(len(Country_recovered)):\n",
    "    result = NN.Model(recovered_df_scaled,i) \n",
    "    recovered_predictions.append(result)"
   ]
  },
  {
   "cell_type": "code",
   "execution_count": null,
   "metadata": {
    "id": "dZJJDdqDNLlr"
   },
   "outputs": [],
   "source": [
    "recovered_predictions = (np.array(recovered_predictions).transpose())\n",
    "recovered_predictions = recovered_predictions.reshape(((DAYS_TO_PREDICT),len(Country_recovered)))\n",
    "recovered_predictions = sc.inverse_transform(recovered_predictions)\n",
    "recovered_predictions = pd.DataFrame(recovered_predictions)\n",
    "recovered_predictions = recovered_predictions.abs()\n",
    "recovered_predictions['Dates'] = predict_recovered_index\n",
    "recovered_predictions.set_index('Dates', inplace = True)\n",
    "recovered_predictions.columns = Country_recovered\n",
    "recovered_predictions.head()"
   ]
  },
  {
   "cell_type": "markdown",
   "metadata": {
    "id": "G6brFPc8NLl1"
   },
   "source": [
    "# Visualizing The Recovered Cases For A Country As Per The User's Choice"
   ]
  },
  {
   "cell_type": "markdown",
   "metadata": {},
   "source": [
    "### List of Infected Countries"
   ]
  },
  {
   "cell_type": "code",
   "execution_count": null,
   "metadata": {},
   "outputs": [],
   "source": [
    "Infected_Countries = pd.DataFrame(Country_recovered)\n",
    "Infected_Countries.columns = ['Countries']\n",
    "pd.set_option(\"max_rows\", None)\n",
    "Infected_Countries"
   ]
  },
  {
   "cell_type": "markdown",
   "metadata": {},
   "source": [
    "### Select The Country"
   ]
  },
  {
   "cell_type": "code",
   "execution_count": null,
   "metadata": {
    "id": "fzdg4BYXNLl2",
    "scrolled": true
   },
   "outputs": [],
   "source": [
    "Country = input('Enter the name of the country from above list you would like to see the daily cases till now : ')"
   ]
  },
  {
   "cell_type": "markdown",
   "metadata": {
    "id": "-Rmc2o7rNLl_"
   },
   "source": [
    "## Till Date Daily Cases of Recovery from coronavirus"
   ]
  },
  {
   "cell_type": "code",
   "execution_count": null,
   "metadata": {
    "id": "QUh1ORxnNLmC"
   },
   "outputs": [],
   "source": [
    "fig = go.Figure()\n",
    "fig.update_layout(template='plotly_dark',title={'text': 'Recovered Daily Cases','y':0.9,'x':0.5,'xanchor': 'center',\n",
    "                                                'yanchor': 'top'},\n",
    "                  xaxis_title=\"Dates\",\n",
    "                  yaxis_title=\"Number Of Cases\")\n",
    "fig.add_trace(go.Scatter(x=recovered_df.index, \n",
    "                         y=recovered_df[Country],\n",
    "                         mode='lines+markers',\n",
    "                         line=dict(color='green', width=2)))"
   ]
  },
  {
   "cell_type": "markdown",
   "metadata": {
    "id": "5pOZloyXNLmK"
   },
   "source": [
    "## Predictions of recovered cases from coronavirus"
   ]
  },
  {
   "cell_type": "code",
   "execution_count": null,
   "metadata": {
    "id": "FT86BcDFNLmL"
   },
   "outputs": [],
   "source": [
    "fig = go.Figure()\n",
    "fig.update_layout(template='plotly_dark',title={'text': 'Recovered Cases Predictions','y':0.9,'x':0.5,'xanchor': 'center',\n",
    "                                                'yanchor': 'top'},xaxis_title=\"Dates\",yaxis_title=\"Number Of Cases\")\n",
    "fig.update_xaxes(tickangle=90, showticklabels = True, type = 'category')\n",
    "fig.add_trace(go.Scatter(x=recovered_predictions.index, \n",
    "                         y=recovered_predictions[Country],\n",
    "                         mode='lines+markers',\n",
    "                         line=dict(color='white', width=2)))"
   ]
  }
 ],
 "metadata": {
  "accelerator": "TPU",
  "colab": {
   "collapsed_sections": [],
   "name": "Analysis and Predictions of Daily Recovered Corornavirus Cases.ipynb",
   "provenance": []
  },
  "kernelspec": {
   "display_name": "Python 3",
   "language": "python",
   "name": "python3"
  },
  "language_info": {
   "codemirror_mode": {
    "name": "ipython",
    "version": 3
   },
   "file_extension": ".py",
   "mimetype": "text/x-python",
   "name": "python",
   "nbconvert_exporter": "python",
   "pygments_lexer": "ipython3",
   "version": "3.7.6"
  }
 },
 "nbformat": 4,
 "nbformat_minor": 4
}
